{
 "cells": [
  {
   "cell_type": "markdown",
   "id": "ac4fa946-5803-48cd-81fc-8523c0745b2c",
   "metadata": {},
   "source": [
    "# 7th March set"
   ]
  },
  {
   "cell_type": "code",
   "execution_count": 62,
   "id": "1ff87a5c-7ff3-49d0-8c83-6b5a56f821eb",
   "metadata": {},
   "outputs": [
    {
     "data": {
      "text/plain": [
       "{}"
      ]
     },
     "execution_count": 62,
     "metadata": {},
     "output_type": "execute_result"
    }
   ],
   "source": [
    "s = {}\n",
    "s"
   ]
  },
  {
   "cell_type": "code",
   "execution_count": 63,
   "id": "a99d0a2a-24d8-4e00-b265-1736e23c9541",
   "metadata": {},
   "outputs": [
    {
     "data": {
      "text/plain": [
       "dict"
      ]
     },
     "execution_count": 63,
     "metadata": {},
     "output_type": "execute_result"
    }
   ],
   "source": [
    "type(s)"
   ]
  },
  {
   "cell_type": "code",
   "execution_count": 64,
   "id": "15cc2b39-9ed0-45ee-95b4-8a17510a6ce7",
   "metadata": {},
   "outputs": [
    {
     "data": {
      "text/plain": [
       "set"
      ]
     },
     "execution_count": 64,
     "metadata": {},
     "output_type": "execute_result"
    }
   ],
   "source": [
    "s1=set() # defining a set\n",
    "type(s1)"
   ]
  },
  {
   "cell_type": "code",
   "execution_count": 65,
   "id": "cbfeab0d-9278-4254-840b-6d31aca4d454",
   "metadata": {},
   "outputs": [
    {
     "data": {
      "text/plain": [
       "{10, 15, 20, 40, 70, 100}"
      ]
     },
     "execution_count": 65,
     "metadata": {},
     "output_type": "execute_result"
    }
   ],
   "source": [
    "s2 = {10,40,20,70,15,100} # sorted (if it contains similar data types)\n",
    "s2"
   ]
  },
  {
   "cell_type": "code",
   "execution_count": 66,
   "id": "87361532-e9fe-4a60-b875-53bb71010909",
   "metadata": {},
   "outputs": [
    {
     "data": {
      "text/plain": [
       "{'a', 'c', 'd', 'h', 'z'}"
      ]
     },
     "execution_count": 66,
     "metadata": {},
     "output_type": "execute_result"
    }
   ],
   "source": [
    "s3 = {'d','a','z','c','h'}\n",
    "s3"
   ]
  },
  {
   "cell_type": "code",
   "execution_count": 67,
   "id": "c20e42f9-e746-4510-8cd8-be6f2f1a76b7",
   "metadata": {},
   "outputs": [
    {
     "ename": "TypeError",
     "evalue": "unhashable type: 'list'",
     "output_type": "error",
     "traceback": [
      "\u001b[1;31m---------------------------------------------------------------------------\u001b[0m",
      "\u001b[1;31mTypeError\u001b[0m                                 Traceback (most recent call last)",
      "Cell \u001b[1;32mIn[67], line 1\u001b[0m\n\u001b[1;32m----> 1\u001b[0m s4 \u001b[38;5;241m=\u001b[39m {\u001b[38;5;241m5\u001b[39m,\u001b[38;5;124m'\u001b[39m\u001b[38;5;124mnit\u001b[39m\u001b[38;5;124m'\u001b[39m,(\u001b[38;5;241m1\u001b[39m\u001b[38;5;241m+\u001b[39m\u001b[38;5;241m2\u001b[39mj),\u001b[38;5;241m2.5\u001b[39m,[\u001b[38;5;241m1\u001b[39m,\u001b[38;5;241m3\u001b[39m,\u001b[38;5;241m4\u001b[39m,\u001b[38;5;241m5\u001b[39m],\u001b[38;5;28;01mTrue\u001b[39;00m,\u001b[38;5;28;01mFalse\u001b[39;00m}\n",
      "\u001b[1;31mTypeError\u001b[0m: unhashable type: 'list'"
     ]
    }
   ],
   "source": [
    "s4 = {5,'nit',(1+2j),2.5,[1,3,4,5],True,False} # lists can't go in sets directly"
   ]
  },
  {
   "cell_type": "code",
   "execution_count": 68,
   "id": "00fc2478-7743-40ca-8cd6-e353ae7854e1",
   "metadata": {},
   "outputs": [
    {
     "data": {
      "text/plain": [
       "{(1+2j), 2, 3.5, False, True, 'nit'}"
      ]
     },
     "execution_count": 68,
     "metadata": {},
     "output_type": "execute_result"
    }
   ],
   "source": [
    "s5 = {2,3.5,'nit',(1+2j),True,False}\n",
    "s5"
   ]
  },
  {
   "cell_type": "code",
   "execution_count": 69,
   "id": "6bf004f6-de41-4cd5-9175-d53789417b47",
   "metadata": {},
   "outputs": [
    {
     "name": "stdout",
     "output_type": "stream",
     "text": [
      "set()\n",
      "{100, 20, 70, 40, 10, 15}\n",
      "{'c', 'z', 'h', 'd', 'a'}\n",
      "{False, True, 'nit', 2, 3.5, (1+2j)}\n"
     ]
    }
   ],
   "source": [
    "print(s1)\n",
    "print(s2)\n",
    "print(s3)\n",
    "print(s5)"
   ]
  },
  {
   "cell_type": "code",
   "execution_count": 70,
   "id": "51ab714e-cd4f-48cc-a6e6-718d45aa2d8c",
   "metadata": {},
   "outputs": [],
   "source": [
    "s2.add(15)"
   ]
  },
  {
   "cell_type": "code",
   "execution_count": 71,
   "id": "6465eb48-9afd-4f76-872f-2c841a29ecbc",
   "metadata": {},
   "outputs": [
    {
     "data": {
      "text/plain": [
       "{10, 15, 20, 40, 70, 100}"
      ]
     },
     "execution_count": 71,
     "metadata": {},
     "output_type": "execute_result"
    }
   ],
   "source": [
    "s2"
   ]
  },
  {
   "cell_type": "code",
   "execution_count": 72,
   "id": "9799d03f-10ca-46f4-b3da-2fbe3168649d",
   "metadata": {},
   "outputs": [],
   "source": [
    "s2.add(200)"
   ]
  },
  {
   "cell_type": "code",
   "execution_count": 73,
   "id": "a0882e06-0a79-4d3f-b188-27ea183b7722",
   "metadata": {},
   "outputs": [
    {
     "data": {
      "text/plain": [
       "{10, 15, 20, 40, 70, 100, 200}"
      ]
     },
     "execution_count": 73,
     "metadata": {},
     "output_type": "execute_result"
    }
   ],
   "source": [
    "s2"
   ]
  },
  {
   "cell_type": "code",
   "execution_count": 74,
   "id": "5f754dcb-c3b3-4c7f-9d4e-670480d2ddb9",
   "metadata": {},
   "outputs": [
    {
     "ename": "TypeError",
     "evalue": "'set' object is not subscriptable",
     "output_type": "error",
     "traceback": [
      "\u001b[1;31m---------------------------------------------------------------------------\u001b[0m",
      "\u001b[1;31mTypeError\u001b[0m                                 Traceback (most recent call last)",
      "Cell \u001b[1;32mIn[74], line 1\u001b[0m\n\u001b[1;32m----> 1\u001b[0m s2[:]\n",
      "\u001b[1;31mTypeError\u001b[0m: 'set' object is not subscriptable"
     ]
    }
   ],
   "source": [
    "s2[:] # indexing and slicing is not allowed in set"
   ]
  },
  {
   "cell_type": "code",
   "execution_count": 75,
   "id": "2c0e27e3-1d5c-4415-93fb-f8d4c6eb1f72",
   "metadata": {},
   "outputs": [],
   "source": [
    "s4 = s5.copy() # copy the set"
   ]
  },
  {
   "cell_type": "code",
   "execution_count": 76,
   "id": "f79fdcff-2130-40ca-b6c1-01d6758123d4",
   "metadata": {},
   "outputs": [
    {
     "data": {
      "text/plain": [
       "{(1+2j), 2, 3.5, False, True, 'nit'}"
      ]
     },
     "execution_count": 76,
     "metadata": {},
     "output_type": "execute_result"
    }
   ],
   "source": [
    "s4"
   ]
  },
  {
   "cell_type": "code",
   "execution_count": 77,
   "id": "a0af931a-bd4d-4e3d-8481-f000ba5148bb",
   "metadata": {},
   "outputs": [
    {
     "data": {
      "text/plain": [
       "{(1+2j), 2, 3.5, False, True, 'nit'}"
      ]
     },
     "execution_count": 77,
     "metadata": {},
     "output_type": "execute_result"
    }
   ],
   "source": [
    "s5"
   ]
  },
  {
   "cell_type": "code",
   "execution_count": 78,
   "id": "146f3cf1-9ccb-4e43-baae-07fc6efe4f02",
   "metadata": {},
   "outputs": [],
   "source": [
    "s4.add(10) # add the elements"
   ]
  },
  {
   "cell_type": "code",
   "execution_count": 79,
   "id": "861fc68d-5c7b-40df-94e8-c03067794638",
   "metadata": {},
   "outputs": [
    {
     "data": {
      "text/plain": [
       "{(1+2j), 10, 2, 3.5, False, True, 'nit'}"
      ]
     },
     "execution_count": 79,
     "metadata": {},
     "output_type": "execute_result"
    }
   ],
   "source": [
    "s4"
   ]
  },
  {
   "cell_type": "code",
   "execution_count": 82,
   "id": "03f7a246-d273-4a83-b646-f24ae9e8bb56",
   "metadata": {},
   "outputs": [
    {
     "data": {
      "text/plain": [
       "{(1+2j), 10, 2, 3.5, False, True, 'nit'}"
      ]
     },
     "execution_count": 82,
     "metadata": {},
     "output_type": "execute_result"
    }
   ],
   "source": [
    "s4.add (10) # duplication is not allowed in set\n",
    "s4"
   ]
  },
  {
   "cell_type": "code",
   "execution_count": 83,
   "id": "4beaa8d2-c80f-4bb0-8e83-b9e34403eb38",
   "metadata": {},
   "outputs": [],
   "source": [
    "s5.clear() #clear the set (it will become empty set)"
   ]
  },
  {
   "cell_type": "code",
   "execution_count": 84,
   "id": "3b2db43d-ed90-4e65-b54a-f2e8862f4826",
   "metadata": {},
   "outputs": [
    {
     "data": {
      "text/plain": [
       "set()"
      ]
     },
     "execution_count": 84,
     "metadata": {},
     "output_type": "execute_result"
    }
   ],
   "source": [
    "s5"
   ]
  },
  {
   "cell_type": "code",
   "execution_count": 85,
   "id": "865689c0-3e9f-423d-b127-bbd4214a2016",
   "metadata": {},
   "outputs": [],
   "source": [
    "del s5 # delete the set"
   ]
  },
  {
   "cell_type": "code",
   "execution_count": 86,
   "id": "94be05fc-4ef7-4266-a468-b85f98b0c297",
   "metadata": {},
   "outputs": [
    {
     "data": {
      "text/plain": [
       "{(1+2j), 10, 2, 3.5, False, True, 'nit'}"
      ]
     },
     "execution_count": 86,
     "metadata": {},
     "output_type": "execute_result"
    }
   ],
   "source": [
    "s4"
   ]
  },
  {
   "cell_type": "code",
   "execution_count": 87,
   "id": "de3cc9e0-dba7-409d-8d71-108c770068a4",
   "metadata": {},
   "outputs": [
    {
     "data": {
      "text/plain": [
       "{(1+2j), 10, 2, False, True, 'nit'}"
      ]
     },
     "execution_count": 87,
     "metadata": {},
     "output_type": "execute_result"
    }
   ],
   "source": [
    "s4.remove(3.5) # removes the element\n",
    "s4"
   ]
  },
  {
   "cell_type": "code",
   "execution_count": 88,
   "id": "bceaeb25-ba28-4a8e-8e81-9a89b09fba0b",
   "metadata": {},
   "outputs": [
    {
     "data": {
      "text/plain": [
       "{'a', 'c', 'd', 'h', 'z'}"
      ]
     },
     "execution_count": 88,
     "metadata": {},
     "output_type": "execute_result"
    }
   ],
   "source": [
    "s3"
   ]
  },
  {
   "cell_type": "code",
   "execution_count": 89,
   "id": "48d5c237-261c-40eb-98bb-c915f76a996d",
   "metadata": {},
   "outputs": [],
   "source": [
    "s3.discard ('a') # it will remove the element if it is a member,if not a member no error"
   ]
  },
  {
   "cell_type": "code",
   "execution_count": 90,
   "id": "28197dc6-16cd-467b-a03b-33307bdb4980",
   "metadata": {},
   "outputs": [
    {
     "data": {
      "text/plain": [
       "{'c', 'd', 'h', 'z'}"
      ]
     },
     "execution_count": 90,
     "metadata": {},
     "output_type": "execute_result"
    }
   ],
   "source": [
    "s3"
   ]
  },
  {
   "cell_type": "code",
   "execution_count": 91,
   "id": "8f6de82e-d335-4afb-bbc5-0053d9ef7859",
   "metadata": {},
   "outputs": [],
   "source": [
    "s3.discard('a') # never gives a error"
   ]
  },
  {
   "cell_type": "code",
   "execution_count": 92,
   "id": "7909e6b6-5cda-4ecf-b91e-440a250e2dba",
   "metadata": {},
   "outputs": [
    {
     "data": {
      "text/plain": [
       "{'a', 'c', 'd', 'h', 'z'}"
      ]
     },
     "execution_count": 92,
     "metadata": {},
     "output_type": "execute_result"
    }
   ],
   "source": [
    "s3.add ('a')\n",
    "s3"
   ]
  },
  {
   "cell_type": "code",
   "execution_count": 93,
   "id": "ec14faed-c2cf-481d-a5e9-75b7bf494246",
   "metadata": {},
   "outputs": [
    {
     "data": {
      "text/plain": [
       "'c'"
      ]
     },
     "execution_count": 93,
     "metadata": {},
     "output_type": "execute_result"
    }
   ],
   "source": [
    "s3.pop() #randomly elements are deleted"
   ]
  },
  {
   "cell_type": "code",
   "execution_count": 94,
   "id": "e2958baf-387e-4197-b7dc-e80ffe968ca4",
   "metadata": {},
   "outputs": [
    {
     "data": {
      "text/plain": [
       "{'a', 'd', 'h', 'z'}"
      ]
     },
     "execution_count": 94,
     "metadata": {},
     "output_type": "execute_result"
    }
   ],
   "source": [
    "s3"
   ]
  },
  {
   "cell_type": "code",
   "execution_count": 95,
   "id": "332df3ea-daff-40c6-baaa-2a10e188b674",
   "metadata": {},
   "outputs": [
    {
     "ename": "TypeError",
     "evalue": "set.pop() takes no arguments (1 given)",
     "output_type": "error",
     "traceback": [
      "\u001b[1;31m---------------------------------------------------------------------------\u001b[0m",
      "\u001b[1;31mTypeError\u001b[0m                                 Traceback (most recent call last)",
      "Cell \u001b[1;32mIn[95], line 1\u001b[0m\n\u001b[1;32m----> 1\u001b[0m s3\u001b[38;5;241m.\u001b[39mpop(\u001b[38;5;241m1\u001b[39m)\n",
      "\u001b[1;31mTypeError\u001b[0m: set.pop() takes no arguments (1 given)"
     ]
    }
   ],
   "source": [
    "s3.pop(1) # pop takes no arguments"
   ]
  },
  {
   "cell_type": "code",
   "execution_count": 96,
   "id": "630b2ebb-3e7c-4277-94f7-cec8f867a01a",
   "metadata": {},
   "outputs": [
    {
     "ename": "TypeError",
     "evalue": "set.pop() takes no arguments (1 given)",
     "output_type": "error",
     "traceback": [
      "\u001b[1;31m---------------------------------------------------------------------------\u001b[0m",
      "\u001b[1;31mTypeError\u001b[0m                                 Traceback (most recent call last)",
      "Cell \u001b[1;32mIn[96], line 1\u001b[0m\n\u001b[1;32m----> 1\u001b[0m s3\u001b[38;5;241m.\u001b[39mpop(\u001b[38;5;124m'\u001b[39m\u001b[38;5;124ma\u001b[39m\u001b[38;5;124m'\u001b[39m)\n",
      "\u001b[1;31mTypeError\u001b[0m: set.pop() takes no arguments (1 given)"
     ]
    }
   ],
   "source": [
    "s3.pop('a')"
   ]
  },
  {
   "cell_type": "code",
   "execution_count": 97,
   "id": "b6f816cf-fc35-477c-b601-526685a71b1c",
   "metadata": {},
   "outputs": [
    {
     "data": {
      "text/plain": [
       "{10, 15, 20, 40, 70, 100, 200}"
      ]
     },
     "execution_count": 97,
     "metadata": {},
     "output_type": "execute_result"
    }
   ],
   "source": [
    "s2"
   ]
  },
  {
   "cell_type": "code",
   "execution_count": 98,
   "id": "3f4e51e0-0d75-4908-bb86-c04ce28e57e9",
   "metadata": {},
   "outputs": [
    {
     "name": "stdout",
     "output_type": "stream",
     "text": [
      "100\n",
      "20\n",
      "70\n",
      "40\n",
      "10\n",
      "200\n",
      "15\n"
     ]
    }
   ],
   "source": [
    "for i in s2:\n",
    "    print(i)"
   ]
  },
  {
   "cell_type": "code",
   "execution_count": 101,
   "id": "4079f42a-59e3-461f-9988-83ef221a26e9",
   "metadata": {},
   "outputs": [
    {
     "name": "stdout",
     "output_type": "stream",
     "text": [
      "(0, 100)\n",
      "(1, 20)\n",
      "(2, 70)\n",
      "(3, 40)\n",
      "(4, 10)\n",
      "(5, 200)\n",
      "(6, 15)\n"
     ]
    }
   ],
   "source": [
    "for i in enumerate(s2):\n",
    "    print(i)"
   ]
  },
  {
   "cell_type": "code",
   "execution_count": 102,
   "id": "7b17eae4-ef56-4818-8f8e-1e11cd4c9106",
   "metadata": {},
   "outputs": [
    {
     "name": "stdout",
     "output_type": "stream",
     "text": [
      "(0, 'z')\n",
      "(1, 'h')\n",
      "(2, 'd')\n",
      "(3, 'a')\n"
     ]
    }
   ],
   "source": [
    "for i in enumerate (s3):\n",
    "    print(i)"
   ]
  },
  {
   "cell_type": "code",
   "execution_count": 103,
   "id": "176de7e8-8787-4e72-81eb-1f7e6f6a4c00",
   "metadata": {},
   "outputs": [
    {
     "data": {
      "text/plain": [
       "False"
      ]
     },
     "execution_count": 103,
     "metadata": {},
     "output_type": "execute_result"
    }
   ],
   "source": [
    "0 in s3"
   ]
  },
  {
   "cell_type": "code",
   "execution_count": 104,
   "id": "c6e43686-d9d1-4436-a3d3-82e33682d3fd",
   "metadata": {},
   "outputs": [
    {
     "data": {
      "text/plain": [
       "True"
      ]
     },
     "execution_count": 104,
     "metadata": {},
     "output_type": "execute_result"
    }
   ],
   "source": [
    "20 in s2"
   ]
  },
  {
   "cell_type": "code",
   "execution_count": 107,
   "id": "be6989a7-e26a-4d11-a235-f54425d082ad",
   "metadata": {},
   "outputs": [],
   "source": [
    "s2.update (s3) #like extend() in list (s3 will be added to s2)"
   ]
  },
  {
   "cell_type": "code",
   "execution_count": 108,
   "id": "e771e0f9-fde1-49be-8b2f-dae6927344b4",
   "metadata": {},
   "outputs": [
    {
     "data": {
      "text/plain": [
       "{10, 100, 15, 20, 200, 40, 70, 'a', 'd', 'h', 'z'}"
      ]
     },
     "execution_count": 108,
     "metadata": {},
     "output_type": "execute_result"
    }
   ],
   "source": [
    "s2"
   ]
  },
  {
   "cell_type": "code",
   "execution_count": null,
   "id": "b3f96cac-a6f6-4fad-a931-19b538379911",
   "metadata": {},
   "outputs": [],
   "source": []
  },
  {
   "cell_type": "markdown",
   "id": "d6309210-f952-4b92-8622-9011e5c70fa7",
   "metadata": {},
   "source": [
    "# Set operations"
   ]
  },
  {
   "cell_type": "code",
   "execution_count": 111,
   "id": "b8fd85a1-3316-491f-af43-1a3d7e0d816e",
   "metadata": {},
   "outputs": [],
   "source": [
    "# SET OPERATION -->\n",
    "#UNION - | .union()\n",
    "#INTERSECTION  & .intersection()\n",
    "#DISJOINT \n",
    "#DIFFERENCE - .difference()\n",
    "#SYMMETRIC DIFFERENCE "
   ]
  },
  {
   "cell_type": "markdown",
   "id": "85d719bf-6e95-4414-a62a-f5d274ef77fd",
   "metadata": {},
   "source": [
    "# Union ---> union() or |"
   ]
  },
  {
   "cell_type": "code",
   "execution_count": 112,
   "id": "7418c039-ac62-41f2-bc3a-17ff76ce17bf",
   "metadata": {},
   "outputs": [],
   "source": [
    "s6 = {1,2,3,4,5}\n",
    "s7 = {4,5,6,7,8}\n",
    "s8 = {8,9,10}"
   ]
  },
  {
   "cell_type": "code",
   "execution_count": 116,
   "id": "6fa73ef2-7d46-4383-8d1d-375f8afc6f6a",
   "metadata": {},
   "outputs": [
    {
     "data": {
      "text/plain": [
       "{1, 2, 3, 4, 5, 6, 7, 8}"
      ]
     },
     "execution_count": 116,
     "metadata": {},
     "output_type": "execute_result"
    }
   ],
   "source": [
    "s6.union(s7) # used for combining sets"
   ]
  },
  {
   "cell_type": "code",
   "execution_count": 117,
   "id": "e036d7df-95d5-4209-8b1a-9f0708dde57f",
   "metadata": {},
   "outputs": [
    {
     "data": {
      "text/plain": [
       "{1, 2, 3, 4, 5, 6, 7, 8, 9, 10}"
      ]
     },
     "execution_count": 117,
     "metadata": {},
     "output_type": "execute_result"
    }
   ],
   "source": [
    "s7 | s8 |s6"
   ]
  },
  {
   "cell_type": "markdown",
   "id": "2e4c9639-ec33-42ba-87c5-6c395fc55532",
   "metadata": {},
   "source": [
    "# Intersection ---> intersection() or &"
   ]
  },
  {
   "cell_type": "code",
   "execution_count": 119,
   "id": "14b13c27-9262-40ab-875c-b4f8e99000c3",
   "metadata": {},
   "outputs": [
    {
     "name": "stdout",
     "output_type": "stream",
     "text": [
      "{1, 2, 3, 4, 5}\n",
      "{4, 5, 6, 7, 8}\n",
      "{8, 9, 10}\n"
     ]
    }
   ],
   "source": [
    "print(s6)\n",
    "print(s7)\n",
    "print(s8)"
   ]
  },
  {
   "cell_type": "code",
   "execution_count": 128,
   "id": "f97a6f18-3048-474c-b865-3a002a74bb80",
   "metadata": {},
   "outputs": [
    {
     "data": {
      "text/plain": [
       "{4, 5}"
      ]
     },
     "execution_count": 128,
     "metadata": {},
     "output_type": "execute_result"
    }
   ],
   "source": [
    "s6.intersection(s7) # used to find the common sets"
   ]
  },
  {
   "cell_type": "code",
   "execution_count": 129,
   "id": "db95d4f8-99af-441b-a154-d6dc730dea83",
   "metadata": {},
   "outputs": [
    {
     "data": {
      "text/plain": [
       "set()"
      ]
     },
     "execution_count": 129,
     "metadata": {},
     "output_type": "execute_result"
    }
   ],
   "source": [
    "s6 & s7 &s8"
   ]
  },
  {
   "cell_type": "code",
   "execution_count": 130,
   "id": "7624d4db-37e5-49b4-8360-eb0823bc31ad",
   "metadata": {},
   "outputs": [
    {
     "data": {
      "text/plain": [
       "{8}"
      ]
     },
     "execution_count": 130,
     "metadata": {},
     "output_type": "execute_result"
    }
   ],
   "source": [
    "s7 & s8"
   ]
  },
  {
   "cell_type": "markdown",
   "id": "e14070bb-be95-4b7f-8ad8-e9f15c5e4e3f",
   "metadata": {},
   "source": [
    "# Difference ---> difference() or -"
   ]
  },
  {
   "cell_type": "code",
   "execution_count": 132,
   "id": "c64bc115-b93f-41d0-ad19-d7a6eef85644",
   "metadata": {},
   "outputs": [
    {
     "name": "stdout",
     "output_type": "stream",
     "text": [
      "{1, 2, 3, 4, 5}\n",
      "{4, 5, 6, 7, 8}\n",
      "{8, 9, 10}\n"
     ]
    }
   ],
   "source": [
    "print(s6)\n",
    "print(s7)\n",
    "print(s8)"
   ]
  },
  {
   "cell_type": "code",
   "execution_count": 134,
   "id": "6e2da15b-3553-4417-b962-d3d6f3357ca0",
   "metadata": {},
   "outputs": [
    {
     "data": {
      "text/plain": [
       "{1, 2, 3}"
      ]
     },
     "execution_count": 134,
     "metadata": {},
     "output_type": "execute_result"
    }
   ],
   "source": [
    "s6.difference(s7) # used to find what is only in the first set and not in the second set"
   ]
  },
  {
   "cell_type": "code",
   "execution_count": 127,
   "id": "41883c33-abd6-4e09-bf3e-99221232d572",
   "metadata": {},
   "outputs": [
    {
     "data": {
      "text/plain": [
       "{6, 7, 8}"
      ]
     },
     "execution_count": 127,
     "metadata": {},
     "output_type": "execute_result"
    }
   ],
   "source": [
    "s7.difference(s6)"
   ]
  },
  {
   "cell_type": "code",
   "execution_count": 135,
   "id": "2cd2d06c-9b3f-4a6c-bf53-31b48fa8e55a",
   "metadata": {},
   "outputs": [
    {
     "data": {
      "text/plain": [
       "{9, 10}"
      ]
     },
     "execution_count": 135,
     "metadata": {},
     "output_type": "execute_result"
    }
   ],
   "source": [
    "s8 - s7"
   ]
  },
  {
   "cell_type": "markdown",
   "id": "92b75eed-8b16-4ede-b857-26b84ccb7cd8",
   "metadata": {},
   "source": [
    "# Symmetric difference --> symmetric_difference()"
   ]
  },
  {
   "cell_type": "code",
   "execution_count": 136,
   "id": "68eed70a-b843-4fcc-ab49-adff390b22bc",
   "metadata": {},
   "outputs": [
    {
     "name": "stdout",
     "output_type": "stream",
     "text": [
      "{1, 2, 3, 4, 5}\n",
      "{4, 5, 6, 7, 8}\n",
      "{8, 9, 10}\n"
     ]
    }
   ],
   "source": [
    "print(s6)\n",
    "print(s7)\n",
    "print(s8)"
   ]
  },
  {
   "cell_type": "code",
   "execution_count": 138,
   "id": "405bb115-0da5-4486-97cc-be1a3e23590a",
   "metadata": {},
   "outputs": [
    {
     "data": {
      "text/plain": [
       "{1, 2, 3, 6, 7, 8}"
      ]
     },
     "execution_count": 138,
     "metadata": {},
     "output_type": "execute_result"
    }
   ],
   "source": [
    "s6.symmetric_difference(s7) #  used to find the elements that are in either of the two sets, but not in both"
   ]
  },
  {
   "cell_type": "code",
   "execution_count": 139,
   "id": "761f9910-019d-4288-8219-0d44bdc75b55",
   "metadata": {},
   "outputs": [
    {
     "data": {
      "text/plain": [
       "{4, 5, 6, 7, 9, 10}"
      ]
     },
     "execution_count": 139,
     "metadata": {},
     "output_type": "execute_result"
    }
   ],
   "source": [
    "s8.symmetric_difference(s7)"
   ]
  },
  {
   "cell_type": "code",
   "execution_count": null,
   "id": "b26aeb7d-1c80-465e-9839-c391ab65c97e",
   "metadata": {},
   "outputs": [],
   "source": []
  },
  {
   "cell_type": "code",
   "execution_count": null,
   "id": "20becadd-2c74-4b6c-b8b4-fcbb8191681a",
   "metadata": {},
   "outputs": [],
   "source": []
  }
 ],
 "metadata": {
  "kernelspec": {
   "display_name": "Python 3 (ipykernel)",
   "language": "python",
   "name": "python3"
  },
  "language_info": {
   "codemirror_mode": {
    "name": "ipython",
    "version": 3
   },
   "file_extension": ".py",
   "mimetype": "text/x-python",
   "name": "python",
   "nbconvert_exporter": "python",
   "pygments_lexer": "ipython3",
   "version": "3.12.7"
  }
 },
 "nbformat": 4,
 "nbformat_minor": 5
}
